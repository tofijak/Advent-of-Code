{
 "cells": [
  {
   "cell_type": "code",
   "execution_count": 60,
   "metadata": {},
   "outputs": [
    {
     "name": "stdout",
     "output_type": "stream",
     "text": [
      "17380\n"
     ]
    }
   ],
   "source": [
    "import csv\n",
    "\n",
    "commands = []\n",
    "\n",
    "with open('input.txt') as csv_file:\n",
    "    csv_reader = csv.reader(csv_file, delimiter=' ')\n",
    "    for row in csv_reader:\n",
    "        commands.append(row)\n",
    "\n",
    "register_x = 1\n",
    "cycle_count = 1\n",
    "cycle_count_to_check = 20\n",
    "sum_of_signal_strengths = 0\n",
    "\n",
    "\n",
    "def check_cycle_count():\n",
    "    global cycle_count, sum_of_signal_strengths, cycle_count_to_check\n",
    "    if cycle_count == cycle_count_to_check:\n",
    "        sum_of_signal_strengths += register_x * cycle_count\n",
    "        cycle_count_to_check += 40\n",
    "\n",
    "\n",
    "for command in commands:\n",
    "    check_cycle_count()\n",
    "    cycle_count += 1\n",
    "    if command[0] == 'addx':\n",
    "        check_cycle_count()\n",
    "        cycle_count += 1\n",
    "        register_x += int(command[1])\n",
    "\n",
    "print(sum_of_signal_strengths)\n"
   ]
  },
  {
   "cell_type": "code",
   "execution_count": 61,
   "metadata": {},
   "outputs": [
    {
     "name": "stdout",
     "output_type": "stream",
     "text": [
      "####..##...##..#..#.####.###..####..##..\n",
      "#....#..#.#..#.#..#....#.#..#.#....#..#.\n",
      "###..#....#....#..#...#..#..#.###..#....\n",
      "#....#.##.#....#..#..#...###..#....#....\n",
      "#....#..#.#..#.#..#.#....#.#..#....#..#.\n",
      "#.....###..##...##..####.#..#.####..##..\n"
     ]
    }
   ],
   "source": [
    "import csv\n",
    "\n",
    "commands = []\n",
    "\n",
    "with open('input.txt') as csv_file:\n",
    "    csv_reader = csv.reader(csv_file, delimiter=' ')\n",
    "    for row in csv_reader:\n",
    "        commands.append(row)\n",
    "\n",
    "register_x = 2\n",
    "cycle_count = 1\n",
    "\n",
    "\n",
    "crt_line_1 = []\n",
    "crt_line_2 = []\n",
    "crt_line_3 = []\n",
    "crt_line_4 = []\n",
    "crt_line_5 = []\n",
    "crt_line_6 = []\n",
    "crt_screen = [crt_line_1, crt_line_2, crt_line_3, crt_line_4, crt_line_5, crt_line_6]\n",
    "\n",
    "def init_crt():\n",
    "    for line in crt_screen:\n",
    "        for i in range(40):\n",
    "            line.append('.')\n",
    "\n",
    "init_crt()\n",
    "\n",
    "def draw_sprite(sprite):\n",
    "    global crt_line_1, crt_line_2, crt_line_3, crt_line_4, crt_line_5, crt_line_6\n",
    "    if cycle_count >= 1 and cycle_count <= 40:\n",
    "        if cycle_count in sprite:\n",
    "            crt_line_1[cycle_count-1] = '#'\n",
    "    elif cycle_count >= 41 and cycle_count <= 80:\n",
    "        if cycle_count-40 in sprite:\n",
    "            crt_line_2[cycle_count-41] = '#'\n",
    "    elif cycle_count >= 81 and cycle_count <= 120:\n",
    "        if cycle_count-80 in sprite:\n",
    "            crt_line_3[cycle_count-81] = '#'\n",
    "    elif cycle_count >= 121 and cycle_count <= 160:\n",
    "        if cycle_count-120 in sprite:\n",
    "            crt_line_4[cycle_count-121] = '#'\n",
    "    elif cycle_count >= 161 and cycle_count <= 200:\n",
    "        if cycle_count-160 in sprite:\n",
    "            crt_line_5[cycle_count-161] = '#'\n",
    "    elif cycle_count >= 201 and cycle_count <= 240:\n",
    "        if cycle_count-200 in sprite:\n",
    "            crt_line_6[cycle_count-201] = '#'\n",
    "\n",
    "\n",
    "for command in commands:\n",
    "    sprite = [register_x - 1, register_x, register_x + 1]\n",
    "    draw_sprite(sprite)\n",
    "    cycle_count += 1\n",
    "    if command[0] == 'addx':\n",
    "        draw_sprite(sprite)\n",
    "        cycle_count += 1\n",
    "        register_x += int(command[1])\n",
    "\n",
    "for line in crt_screen:\n",
    "    print(''.join(line))\n"
   ]
  }
 ],
 "metadata": {
  "kernelspec": {
   "display_name": "Python 3.10.6 64-bit",
   "language": "python",
   "name": "python3"
  },
  "language_info": {
   "codemirror_mode": {
    "name": "ipython",
    "version": 3
   },
   "file_extension": ".py",
   "mimetype": "text/x-python",
   "name": "python",
   "nbconvert_exporter": "python",
   "pygments_lexer": "ipython3",
   "version": "3.10.6"
  },
  "orig_nbformat": 4,
  "vscode": {
   "interpreter": {
    "hash": "aee8b7b246df8f9039afb4144a1f6fd8d2ca17a180786b69acc140d282b71a49"
   }
  }
 },
 "nbformat": 4,
 "nbformat_minor": 2
}
