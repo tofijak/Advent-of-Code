{
 "cells": [
  {
   "cell_type": "code",
   "execution_count": 22,
   "metadata": {},
   "outputs": [
    {
     "name": "stdout",
     "output_type": "stream",
     "text": [
      "22897\n"
     ]
    }
   ],
   "source": [
    "import re\n",
    "\n",
    "points = 0\n",
    "points_on_game = 0\n",
    "\n",
    "\n",
    "with open('./input.txt') as f:\n",
    "    cards = f.readlines()\n",
    "    for card in cards:\n",
    "        game_numbers = card.split(':')[1]\n",
    "        game_numbers = re.sub(' +', ' ', game_numbers)\n",
    "\n",
    "        my_numbers = game_numbers.split('|')[0].strip().split(' ')\n",
    "        winning_numbers = game_numbers.split('|')[1].strip().split(' ')\n",
    "        for number in my_numbers:\n",
    "            if number in winning_numbers:\n",
    "                points_on_game += points_on_game or 1\n",
    "\n",
    "        points += points_on_game\n",
    "        points_on_game = 0\n",
    "\n",
    "\n",
    "\n",
    "print(points)\n",
    "        \n",
    "\n",
    "\n",
    "\n"
   ]
  },
  {
   "cell_type": "code",
   "execution_count": 52,
   "metadata": {},
   "outputs": [
    {
     "name": "stdout",
     "output_type": "stream",
     "text": [
      "5095824\n"
     ]
    }
   ],
   "source": [
    "total_scratchcard_won = 0\n",
    "scratchcard_won_in_game = 0\n",
    "\n",
    "\n",
    "def get_winning_points(card):\n",
    "    card = re.sub(' +', ' ', card)\n",
    "    game_id = int(card.split(':')[0].split(' ')[1])\n",
    "    game_numbers = card.split(':')[1]\n",
    "    my_numbers = game_numbers.split('|')[0].strip().split(' ')\n",
    "    winning_numbers = game_numbers.split('|')[1].strip().split(' ')\n",
    "\n",
    "    scratchcard_won_in_game = 0\n",
    "    for number in my_numbers:\n",
    "        if number in winning_numbers:\n",
    "            scratchcard_won_in_game += 1\n",
    "        \n",
    "    for x in range(game_id + 1, game_id + 1 + scratchcard_won_in_game ):\n",
    "        scratchcard_won_in_game += get_winning_points(cards[x - 1])\n",
    "\n",
    "    return scratchcard_won_in_game\n",
    "\n",
    "with open('./input.txt') as f:\n",
    "    cards = f.readlines()\n",
    "    total_scratchcard_won += len(cards)\n",
    "    for card in cards:\n",
    "        total_scratchcard_won += get_winning_points(card)\n",
    "        \n",
    "\n",
    "\n",
    "\n",
    "print(total_scratchcard_won)\n",
    "        \n"
   ]
  },
  {
   "cell_type": "code",
   "execution_count": null,
   "metadata": {},
   "outputs": [],
   "source": []
  }
 ],
 "metadata": {
  "kernelspec": {
   "display_name": "Python 3.10.6 64-bit",
   "language": "python",
   "name": "python3"
  },
  "language_info": {
   "codemirror_mode": {
    "name": "ipython",
    "version": 3
   },
   "file_extension": ".py",
   "mimetype": "text/x-python",
   "name": "python",
   "nbconvert_exporter": "python",
   "pygments_lexer": "ipython3",
   "version": "3.11.6"
  },
  "orig_nbformat": 4,
  "vscode": {
   "interpreter": {
    "hash": "aee8b7b246df8f9039afb4144a1f6fd8d2ca17a180786b69acc140d282b71a49"
   }
  }
 },
 "nbformat": 4,
 "nbformat_minor": 2
}
