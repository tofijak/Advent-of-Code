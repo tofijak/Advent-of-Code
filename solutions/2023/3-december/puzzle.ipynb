{
 "cells": [
  {
   "cell_type": "code",
   "execution_count": 171,
   "metadata": {},
   "outputs": [
    {
     "name": "stdout",
     "output_type": "stream",
     "text": [
      "548075\n"
     ]
    }
   ],
   "source": [
    "sum_of_parts = 0\n",
    "\n",
    "\n",
    "with open('./input.txt') as f:\n",
    "    column = f.readlines()\n",
    "    column = [list(line.strip()) for line in column]\n",
    "    y = 0\n",
    "    while y < len(column):\n",
    "        current_digit = ''\n",
    "        current_digit_is_part_number = False\n",
    "        row = column[y]\n",
    "        x = 0\n",
    "        while x < len(row):\n",
    "            if row[x].isdigit():\n",
    "                current_digit += str(row[x])\n",
    "                for y_coordinate, x_coordinate in [(y, x + 1), (y + 1, x), (y, x - 1), (y - 1, x), (y + 1, x + 1), (y + 1, x - 1), (y - 1, x + 1), (y - 1, x - 1)]:\n",
    "                    if 0 <= x_coordinate < len(row) and 0 <= y_coordinate < len(column):\n",
    "                        if not column[y_coordinate][x_coordinate].isalnum() and column[x_coordinate][y_coordinate] != '.':\n",
    "                            current_digit_is_part_number = True\n",
    "                            break\n",
    "            if x == len(row) - 1 or not row[x].isdigit():\n",
    "                if len(current_digit) > 0:\n",
    "                    if current_digit_is_part_number:\n",
    "                        sum_of_parts += int(current_digit)\n",
    "                current_digit = ''\n",
    "                current_digit_is_part_number = False\n",
    "            \n",
    "            x += 1\n",
    "        y += 1\n",
    "\n",
    "                    \n",
    "\n",
    "\n",
    "\n",
    "\n",
    "print(sum_of_parts)\n",
    "        \n",
    "\n",
    "\n",
    "\n"
   ]
  },
  {
   "cell_type": "code",
   "execution_count": 173,
   "metadata": {},
   "outputs": [
    {
     "name": "stdout",
     "output_type": "stream",
     "text": [
      "72514855\n"
     ]
    }
   ],
   "source": [
    "gear_ratio = 0\n",
    "\n",
    "\n",
    "with open('./input.txt') as f:\n",
    "    column = f.readlines()\n",
    "    column = [list(line.strip()) for line in column]\n",
    "    y = 0\n",
    "    while y < len(column):\n",
    "        number_next_to_gear_count = 0\n",
    "        row = column[y]\n",
    "        x = 0\n",
    "        while x < len(row):\n",
    "            if row[x] == '*':\n",
    "                numbers = []\n",
    "                for y_coordinate, x_coordinate in [(y, x + 1), (y + 1, x), (y, x - 1), (y - 1, x), (y + 1, x + 1), (y + 1, x - 1), (y - 1, x + 1), (y - 1, x - 1)]:\n",
    "                    if 0 <= x_coordinate < len(row) and 0 <= y_coordinate < len(column):\n",
    "                        if column[y_coordinate][x_coordinate].isdigit():\n",
    "                            left, right = x_coordinate, x_coordinate\n",
    "                            while left >= 0 and column[y_coordinate][left].isdigit():\n",
    "                                left -= 1\n",
    "                            while right < len(row) and column[y_coordinate][right].isdigit():\n",
    "                                right += 1\n",
    "                            \n",
    "                            number = int(''.join(column[y_coordinate][left + 1:right]))\n",
    "                            if number not in numbers:\n",
    "                                numbers.append(number)\n",
    "                                \n",
    "                if len(numbers) == 2:\n",
    "                    gear_ratio += numbers[0] * numbers[1]\n",
    "                    numbers = []\n",
    "                \n",
    "            \n",
    "            x += 1\n",
    "        y += 1\n",
    "\n",
    "\n",
    "print(gear_ratio)\n",
    "        \n",
    "\n",
    "\n",
    "\n"
   ]
  },
  {
   "cell_type": "code",
   "execution_count": null,
   "metadata": {},
   "outputs": [],
   "source": []
  }
 ],
 "metadata": {
  "kernelspec": {
   "display_name": "Python 3.10.6 64-bit",
   "language": "python",
   "name": "python3"
  },
  "language_info": {
   "codemirror_mode": {
    "name": "ipython",
    "version": 3
   },
   "file_extension": ".py",
   "mimetype": "text/x-python",
   "name": "python",
   "nbconvert_exporter": "python",
   "pygments_lexer": "ipython3",
   "version": "3.11.6"
  },
  "orig_nbformat": 4,
  "vscode": {
   "interpreter": {
    "hash": "aee8b7b246df8f9039afb4144a1f6fd8d2ca17a180786b69acc140d282b71a49"
   }
  }
 },
 "nbformat": 4,
 "nbformat_minor": 2
}
