{
 "cells": [
  {
   "cell_type": "code",
   "execution_count": 43,
   "metadata": {},
   "outputs": [
    {
     "name": "stdout",
     "output_type": "stream",
     "text": [
      "2406\n"
     ]
    }
   ],
   "source": [
    "red_cubes = 12\n",
    "blue_cubes = 14\n",
    "green_cubes = 13\n",
    "\n",
    "sum_of_game_ids = 0\n",
    "\n",
    "with open('./input.txt') as f:\n",
    "    lines = f.readlines()\n",
    "    for line in lines:\n",
    "        game_id = line.split(':')[0].split(' ')[1]\n",
    "        subsets = line.split(':')[1].split(';')\n",
    "        valid = True\n",
    "        for subset in subsets:\n",
    "            colors = subset.strip().replace(',','').split(' ')\n",
    "            colors = [{'color': colors[i+1], 'number': int(colors[i])} for i in range(0, len(colors), 2)]\n",
    "            if any([color['color'] == 'red' and color['number'] > red_cubes for color in colors]) or \\\n",
    "                any([color['color'] == 'blue' and color['number'] > blue_cubes for color in colors]) or \\\n",
    "                any([color['color'] == 'green' and color['number'] > green_cubes for color in colors]):\n",
    "                valid = False\n",
    "                break\n",
    "        if valid:\n",
    "            sum_of_game_ids += int(game_id)\n",
    "\n",
    "print(sum_of_game_ids)\n",
    "        \n",
    "\n",
    "\n",
    "\n"
   ]
  },
  {
   "cell_type": "code",
   "execution_count": 54,
   "metadata": {},
   "outputs": [
    {
     "name": "stdout",
     "output_type": "stream",
     "text": [
      "78375\n"
     ]
    }
   ],
   "source": [
    "sum_of_powers = 0\n",
    "\n",
    "with open('./input.txt') as f:\n",
    "    lines = f.readlines()\n",
    "    for line in lines:\n",
    "        game_id = line.split(':')[0].split(' ')[1]\n",
    "        subsets = line.split(':')[1].split(';')\n",
    "        least_red_cubes = 0\n",
    "        least_blue_cubes = 0\n",
    "        least_green_cubes = 0\n",
    "        for subset in subsets:\n",
    "            colors = subset.strip().replace(',','').split(' ')\n",
    "            colors = [{'color': colors[i+1], 'number': int(colors[i])} for i in range(0, len(colors), 2)]\n",
    "            for color in colors:\n",
    "                if color['color'] == 'red' and color['number'] >= least_red_cubes:\n",
    "                    least_red_cubes = color['number']\n",
    "                elif color['color'] == 'blue' and color['number'] >= least_blue_cubes:\n",
    "                    least_blue_cubes = color['number']\n",
    "                elif color['color'] == 'green' and color['number'] >= least_green_cubes:\n",
    "                    least_green_cubes = color['number']                \n",
    "        power_of_least_cubes = least_green_cubes*least_blue_cubes*least_red_cubes\n",
    "        sum_of_powers += power_of_least_cubes\n",
    "\n",
    "print(sum_of_powers)\n",
    "        \n",
    "\n"
   ]
  },
  {
   "cell_type": "code",
   "execution_count": null,
   "metadata": {},
   "outputs": [],
   "source": []
  }
 ],
 "metadata": {
  "kernelspec": {
   "display_name": "Python 3.10.6 64-bit",
   "language": "python",
   "name": "python3"
  },
  "language_info": {
   "codemirror_mode": {
    "name": "ipython",
    "version": 3
   },
   "file_extension": ".py",
   "mimetype": "text/x-python",
   "name": "python",
   "nbconvert_exporter": "python",
   "pygments_lexer": "ipython3",
   "version": "3.11.6"
  },
  "orig_nbformat": 4,
  "vscode": {
   "interpreter": {
    "hash": "aee8b7b246df8f9039afb4144a1f6fd8d2ca17a180786b69acc140d282b71a49"
   }
  }
 },
 "nbformat": 4,
 "nbformat_minor": 2
}
