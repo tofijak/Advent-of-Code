{
 "cells": [
  {
   "cell_type": "code",
   "execution_count": 4,
   "metadata": {},
   "outputs": [],
   "source": [
    "total_calories_for_each_elf = []\n",
    "i = 0\n",
    "\n",
    "with open('./calories.text') as f:\n",
    "    lines = f.readlines()\n",
    "    for line in lines:\n",
    "        if line == \"\\n\":\n",
    "            i += 1\n",
    "        else:\n",
    "            if(len(total_calories_for_each_elf) != i+1):\n",
    "                total_calories_for_each_elf.insert(i, int(line))\n",
    "            else:\n",
    "                total_calories_for_each_elf[i] += int(line)"
   ]
  },
  {
   "cell_type": "code",
   "execution_count": 5,
   "metadata": {},
   "outputs": [
    {
     "name": "stdout",
     "output_type": "stream",
     "text": [
      "67658\n"
     ]
    }
   ],
   "source": [
    "# Part 1 answer\n",
    "print(max(total_calories_for_each_elf))"
   ]
  },
  {
   "cell_type": "code",
   "execution_count": 6,
   "metadata": {},
   "outputs": [
    {
     "name": "stdout",
     "output_type": "stream",
     "text": [
      "200158\n"
     ]
    }
   ],
   "source": [
    "# Part 2 answer\n",
    "sum_of_three_eleves_carring_most_calories = 0\n",
    "\n",
    "for i in range(3):\n",
    "    max_calories = max(total_calories_for_each_elf)\n",
    "    elf_with_most_calories = total_calories_for_each_elf.remove(max_calories)\n",
    "    sum_of_three_eleves_carring_most_calories += max_calories\n",
    "\n",
    "print(sum_of_three_eleves_carring_most_calories)\n"
   ]
  }
 ],
 "metadata": {
  "kernelspec": {
   "display_name": "Python 3.10.6 64-bit",
   "language": "python",
   "name": "python3"
  },
  "language_info": {
   "codemirror_mode": {
    "name": "ipython",
    "version": 3
   },
   "file_extension": ".py",
   "mimetype": "text/x-python",
   "name": "python",
   "nbconvert_exporter": "python",
   "pygments_lexer": "ipython3",
   "version": "3.10.6"
  },
  "orig_nbformat": 4,
  "vscode": {
   "interpreter": {
    "hash": "aee8b7b246df8f9039afb4144a1f6fd8d2ca17a180786b69acc140d282b71a49"
   }
  }
 },
 "nbformat": 4,
 "nbformat_minor": 2
}
