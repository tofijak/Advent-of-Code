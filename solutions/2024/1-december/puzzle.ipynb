{
 "cells": [
  {
   "cell_type": "code",
   "execution_count": 95,
   "metadata": {},
   "outputs": [
    {
     "name": "stdout",
     "output_type": "stream",
     "text": [
      "55477\n"
     ]
    }
   ],
   "source": [
    "import re\n",
    "numbers_in_line = []\n",
    "\n",
    "with open('./input.txt') as f:\n",
    "    lines = f.readlines()\n",
    "    for line in lines:\n",
    "        all_numbers_in_line = re.findall(r'\\d', line)\n",
    "        first_num = all_numbers_in_line[0]\n",
    "        last_num = all_numbers_in_line[-1]\n",
    "        combined_num = int(str(first_num) + str(last_num))\n",
    "        numbers_in_line.append(combined_num)\n",
    "        \n",
    "# Part 1 answer\n",
    "print(sum(numbers_in_line))\n",
    "\n"
   ]
  },
  {
   "cell_type": "code",
   "execution_count": 119,
   "metadata": {},
   "outputs": [
    {
     "name": "stdout",
     "output_type": "stream",
     "text": [
      "54431\n"
     ]
    }
   ],
   "source": [
    "import re\n",
    "\n",
    "ONE = \"one\"\n",
    "TWO = \"two\"\n",
    "THREE = \"three\"\n",
    "FOUR = \"four\"\n",
    "FIVE = \"five\"\n",
    "SIX = \"six\"\n",
    "SEVEN = \"seven\"\n",
    "EIGHT = \"eight\"\n",
    "NINE = \"nine\"\n",
    "\n",
    "numbers_in_line = []\n",
    "\n",
    "def replace_digit_word_with_number(numbers):\n",
    "    for i in range(len(numbers)):\n",
    "        if numbers[i] == ONE:\n",
    "            numbers[i] = 1\n",
    "        elif numbers[i] == TWO:\n",
    "            numbers[i] = 2\n",
    "        elif numbers[i] == THREE:\n",
    "            numbers[i] = 3\n",
    "        elif numbers[i] == FOUR:\n",
    "            numbers[i] = 4\n",
    "        elif numbers[i] == FIVE:\n",
    "            numbers[i] = 5\n",
    "        elif numbers[i] == SIX:\n",
    "            numbers[i] = 6\n",
    "        elif numbers[i] == SEVEN:\n",
    "            numbers[i] = 7\n",
    "        elif numbers[i] == EIGHT:\n",
    "            numbers[i] = 8\n",
    "        elif numbers[i] == NINE:\n",
    "            numbers[i] = 9\n",
    "\n",
    "\n",
    "with open('./input.txt') as f:\n",
    "    lines = f.readlines()\n",
    "    for line in lines:\n",
    "        all_numbers_in_line = re.findall(r'(?=(\\d|one|two|three|four|five|six|seven|eight|nine))', line)\n",
    "        replace_digit_word_with_number(all_numbers_in_line)\n",
    "        first_num = all_numbers_in_line[0]\n",
    "        last_num = all_numbers_in_line[-1]\n",
    "        combined_num = int(str(first_num) + str(last_num))\n",
    "        numbers_in_line.append(combined_num)\n",
    "\n",
    "# Part 2 answer\n",
    "print(sum(numbers_in_line))"
   ]
  },
  {
   "cell_type": "code",
   "execution_count": null,
   "metadata": {},
   "outputs": [],
   "source": []
  }
 ],
 "metadata": {
  "kernelspec": {
   "display_name": "Python 3.10.6 64-bit",
   "language": "python",
   "name": "python3"
  },
  "language_info": {
   "codemirror_mode": {
    "name": "ipython",
    "version": 3
   },
   "file_extension": ".py",
   "mimetype": "text/x-python",
   "name": "python",
   "nbconvert_exporter": "python",
   "pygments_lexer": "ipython3",
   "version": "3.11.6"
  },
  "orig_nbformat": 4,
  "vscode": {
   "interpreter": {
    "hash": "aee8b7b246df8f9039afb4144a1f6fd8d2ca17a180786b69acc140d282b71a49"
   }
  }
 },
 "nbformat": 4,
 "nbformat_minor": 2
}
