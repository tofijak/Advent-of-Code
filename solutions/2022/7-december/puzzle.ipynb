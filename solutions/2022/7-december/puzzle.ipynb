{
 "cells": [
  {
   "cell_type": "code",
   "execution_count": 128,
   "metadata": {},
   "outputs": [
    {
     "name": "stdout",
     "output_type": "stream",
     "text": [
      "root\n",
      "{'path': '/', 'children': [{'path': 'bhtvbj', 'children': [{'path': 'dmd', 'children': [{'name': 'ngmqbc.mdj', 'size': '232616'}, {'name': 'vqqcvgts.vrc', 'size': '75367'}], 'size': 307983}, {'path': 'fjblqtdp', 'children': [{'path': 'czvcf', 'children': [{'path': 'cqzcp', 'children': [{'path': 'bshmsns', 'children': [{'name': 'rbhprlgq.gbh', 'size': '243135'}], 'size': 243135}, {'name': 'svhphd', 'size': '55418'}, {'name': 'vqqcvgts.vrc', 'size': '232179'}], 'size': 530732}, {'path': 'czvcf', 'children': [{'name': 'lhfsc.lrh', 'size': '158882'}, {'name': 'ntsrpn', 'size': '266626'}], 'size': 425508}], 'size': 956240}, {'path': 'jnzwf', 'children': [{'name': 'btmz', 'size': '108142'}], 'size': 108142}, {'name': 'lcpgtrc.dqm', 'size': '245590'}, {'name': 'nwqgchw', 'size': '141631'}, {'name': 'nwqgchw.ppg', 'size': '37152'}, {'name': 'rbj.twt', 'size': '80432'}], 'size': 1569187}, {'name': 'mdmtpjq.wmf', 'size': '25595'}, {'path': 'qhm', 'children': [{'name': 'bnqbdmm.dfh', 'size': '162986'}, {'path': 'hqbhr', 'children': [{'name': 'btmz', 'size': '175196'}, {'path': 'fcm', 'children': [{'name': 'sfddtgp.flr', 'size': '66471'}], 'size': 66471}, {'name': 'ngmqbc', 'size': '221851'}, {'path': 'qnlssvn', 'children': [{'path': 'czvcf', 'children': [{'name': 'vqqcvgts.vrc', 'size': '202850'}], 'size': 202850}, {'path': 'gngvc', 'children': [{'name': 'rdzsz.hst', 'size': '154834'}], 'size': 154834}, {'name': 'lbthznl.llq', 'size': '75812'}, {'name': 'nwqgchw.nlq', 'size': '182104'}, {'name': 'rrvwdw.nzv', 'size': '161446'}, {'path': 'rzssqpcj', 'children': [{'name': 'bdzdp', 'size': '66116'}], 'size': 66116}, {'name': 'wdcsgg.cjt', 'size': '260877'}], 'size': 1104039}, {'name': 'rdzsz.grd', 'size': '263872'}, {'path': 'vvbgt', 'children': [{'name': 'cpsmvwq', 'size': '288775'}, {'path': 'fbfddwqz', 'children': [{'name': 'wdcsgg.cjt', 'size': '100619'}], 'size': 100619}, {'name': 'jcpj.wpf', 'size': '81857'}, {'path': 'nwjps', 'children': [{'name': 'cjrvb.tdv', 'size': '96526'}], 'size': 96526}, {'name': 'tlrlbg.mgz', 'size': '49905'}, {'name': 'wdcsgg.cjt', 'size': '64870'}, {'name': 'zbc.rhl', 'size': '131013'}], 'size': 813565}, {'path': 'wwzwqqh', 'children': [{'path': 'czvcf', 'children': [{'name': 'nrjfpjc.wcg', 'size': '256121'}], 'size': 256121}], 'size': 256121}], 'size': 2901115}, {'name': 'hwvdlfl', 'size': '201987'}, {'path': 'lvdrr', 'children': [{'name': 'lhfsc.lrh', 'size': '27488'}], 'size': 27488}, {'name': 'nwcjvb', 'size': '143900'}, {'path': 'rgtcchh', 'children': [{'name': 'bfdfz.rln', 'size': '19285'}, {'name': 'btmz', 'size': '166070'}, {'name': 'vqqcvgts.vrc', 'size': '222301'}], 'size': 407656}, {'name': 'wdcsgg.cjt', 'size': '297583'}], 'size': 4142715}, {'path': 'rjr', 'children': [{'path': 'dbb', 'children': [{'name': 'btmz', 'size': '158756'}, {'name': 'czvcf.trn', 'size': '130326'}, {'path': 'fdgh', 'children': [{'name': 'rph.rsl', 'size': '24629'}, {'name': 'wdcsgg.cjt', 'size': '299233'}], 'size': 323862}, {'path': 'grr', 'children': [{'name': 'tqvvp', 'size': '259732'}], 'size': 259732}, {'name': 'wdcsgg.cjt', 'size': '20181'}], 'size': 892857}, {'name': 'drv.ljf', 'size': '121292'}, {'path': 'ntbbd', 'children': [{'path': 'cwwhvghw', 'children': [{'path': 'czvcf', 'children': [{'path': 'ntj', 'children': [{'name': 'ntplhvnn.zpt', 'size': '214072'}], 'size': 214072}, {'path': 'nwqgchw', 'children': [{'name': 'qfphslzt', 'size': '228489'}, {'name': 'zfpdpds.bjt', 'size': '15383'}], 'size': 243872}, {'path': 'rdzsz', 'children': [{'path': 'jrvt', 'children': [{'name': 'mnq.jvr', 'size': '85079'}], 'size': 85079}, {'name': 'jrvt.vjt', 'size': '6415'}, {'name': 'mhfwsc.nlr', 'size': '290773'}, {'name': 'wdcsgg.cjt', 'size': '82027'}], 'size': 464294}, {'name': 'vqqcvgts.vrc', 'size': '202867'}], 'size': 1125105}, {'name': 'dzltv', 'size': '167719'}, {'path': 'mdgqwdjq', 'children': [{'name': 'phghj', 'size': '223814'}, {'name': 'wwpvcb', 'size': '172175'}], 'size': 395989}, {'name': 'pcfcw.jrd', 'size': '265831'}, {'name': 'qsdv', 'size': '86965'}, {'name': 'tdbtjwzp.msg', 'size': '71709'}, {'path': 'vtbr', 'children': [{'name': 'frwc.dhg', 'size': '134023'}, {'name': 'fvgscmns.mpj', 'size': '26692'}, {'name': 'wnlgfmdr.dch', 'size': '148404'}], 'size': 309119}], 'size': 2422437}, {'path': 'hggcq', 'children': [{'name': 'btmz', 'size': '19064'}, {'name': 'lswzn', 'size': '200043'}, {'path': 'mlrj', 'children': [{'name': 'czvcf.fvc', 'size': '10869'}, {'name': 'gprlsg.tbt', 'size': '277796'}], 'size': 288665}, {'name': 'rcwmzz.nsn', 'size': '49427'}, {'path': 'wjznmcw', 'children': [{'name': 'bzwn', 'size': '43168'}, {'path': 'dznz', 'children': [{'name': 'msqdt.mlm', 'size': '59403'}], 'size': 59403}, {'name': 'lcpgtrc.dqm', 'size': '4102'}, {'path': 'ltcpgcdf', 'children': [{'path': 'czvcf', 'children': [{'name': 'pntjz.vzq', 'size': '173609'}, {'name': 'trvbpz.djc', 'size': '292292'}, {'name': 'wdcsgg.cjt', 'size': '111008'}, {'name': 'wjvv.hsj', 'size': '107437'}, {'name': 'wsbff.pzh', 'size': '265353'}], 'size': 949699}, {'name': 'jgphjm.pdw', 'size': '10727'}, {'name': 'nwqgchw', 'size': '309167'}, {'path': 'pwbt', 'children': [{'name': 'jtdtlbsh', 'size': '307172'}, {'path': 'lgz', 'children': [{'path': 'fnlsq', 'children': [{'name': 'jrvt.ljb', 'size': '161356'}], 'size': 161356}], 'size': 161356}], 'size': 468528}, {'path': 'qznbn', 'children': [{'name': 'bdgvj', 'size': '12354'}, {'name': 'cslzb.qnq', 'size': '59582'}, {'path': 'czvcf', 'children': [{'path': 'dqnpjjrv', 'children': [{'name': 'ngmqbc.srp', 'size': '233675'}], 'size': 233675}, {'name': 'ztcpzzr', 'size': '13244'}], 'size': 246919}, {'path': 'psnpf', 'children': [{'name': 'lhfsc.lrh', 'size': '1986'}], 'size': 1986}, {'name': 'vlsswwgv', 'size': '136432'}, {'name': 'vqqcvgts.vrc', 'size': '99861'}, {'name': 'wzllwpmr.mqc', 'size': '39898'}], 'size': 597032}, {'name': 'ztpcdmb.rrs', 'size': '203154'}], 'size': 2538307}, {'name': 'nwqgchw.mgc', 'size': '228100'}, {'path': 'tbdqsnb', 'children': [{'name': 'hbcnv.gmj', 'size': '170099'}], 'size': 170099}, {'path': 'tmzswrgt', 'children': [{'name': 'btmz', 'size': '118969'}, {'path': 'czvcf', 'children': [{'name': 'hhcf', 'size': '163330'}, {'name': 'wdhw', 'size': '159514'}, {'name': 'wtn.pnb', 'size': '22876'}], 'size': 345720}, {'name': 'hbb.jcb', 'size': '51649'}], 'size': 516338}, {'name': 'whgmsm.bjj', 'size': '19984'}], 'size': 3579501}], 'size': 4136700}, {'name': 'jrvt.srj', 'size': '169994'}, {'path': 'jtzbw', 'children': [{'name': 'rdzsz.dgf', 'size': '55634'}], 'size': 55634}, {'path': 'ptr', 'children': [{'name': 'wdcsgg.cjt', 'size': '49447'}], 'size': 49447}, {'name': 'smcngpwr', 'size': '215668'}, {'path': 'tfshcbw', 'children': [{'name': 'btmz', 'size': '193480'}, {'name': 'sjsgfmts.dtc', 'size': '44402'}, {'name': 'vqncb.ssf', 'size': '115952'}], 'size': 353834}], 'size': 7403714}, {'name': 'rphtjh.ngl', 'size': '228025'}, {'name': 'wrlwdgz', 'size': '133033'}], 'size': 8778921}, {'path': 'smtrp', 'children': [{'path': 'hlpzdbwp', 'children': [{'path': 'czvcf', 'children': [{'name': 'lcpgtrc.dqm', 'size': '155141'}], 'size': 155141}, {'path': 'frzvnrb', 'children': [{'name': 'btmz', 'size': '71241'}, {'path': 'rdzsz', 'children': [{'name': 'jngsmcrm.pwt', 'size': '35362'}], 'size': 35362}, {'path': 'vdb', 'children': [{'name': 'jrvt.nbf', 'size': '239928'}, {'name': 'ngmqbc', 'size': '16883'}], 'size': 256811}], 'size': 363414}, {'path': 'jrvt', 'children': [{'path': 'lcchtcz', 'children': [{'name': 'qzsh.fst', 'size': '199091'}], 'size': 199091}], 'size': 199091}], 'size': 717646}, {'name': 'jrvt.hds', 'size': '307696'}, {'name': 'lcpgtrc.dqm', 'size': '300691'}, {'path': 'nflt', 'children': [{'name': 'nwqgchw.qpf', 'size': '219987'}, {'path': 'rdzsz', 'children': [{'path': 'zmgf', 'children': [{'path': 'vwcvbff', 'children': [{'name': 'qsp', 'size': '157598'}], 'size': 157598}], 'size': 157598}], 'size': 157598}, {'name': 'wdcsgg.cjt', 'size': '257069'}], 'size': 634654}, {'path': 'qcph', 'children': [{'name': 'cdj.bch', 'size': '158708'}, {'path': 'drdpdzj', 'children': [{'path': 'ngwcr', 'children': [{'name': 'rqjbn', 'size': '76003'}, {'name': 'vqqcvgts.vrc', 'size': '84407'}], 'size': 160410}, {'path': 'pwffm', 'children': [{'name': 'rzdjrmn.jdz', 'size': '284565'}], 'size': 284565}, {'path': 'vcclwq', 'children': [{'name': 'czvcf.qll', 'size': '137044'}, {'name': 'nwqgchw', 'size': '3433'}, {'name': 'vqqcvgts.vrc', 'size': '18027'}], 'size': 158504}], 'size': 603479}, {'path': 'jrvt', 'children': [{'name': 'vljs', 'size': '57605'}], 'size': 57605}, {'name': 'lhfsc.lrh', 'size': '109459'}, {'path': 'ngmqbc', 'children': [{'name': 'btmz', 'size': '217554'}, {'name': 'lhfsc.lrh', 'size': '96485'}, {'path': 'lpcr', 'children': [{'name': 'qhfz.grc', 'size': '227650'}], 'size': 227650}, {'path': 'sltwgmjv', 'children': [{'name': 'fncjl.vlr', 'size': '39536'}, {'name': 'lcpgtrc.dqm', 'size': '248067'}], 'size': 287603}, {'path': 'snll', 'children': [{'name': 'btmz', 'size': '70368'}, {'name': 'svmdc.pcv', 'size': '195228'}], 'size': 265596}, {'path': 'tsq', 'children': [{'name': 'vqqcvgts.vrc', 'size': '271904'}, {'name': 'wbgwpcl', 'size': '104043'}], 'size': 375947}, {'name': 'vqqcvgts.vrc', 'size': '218323'}, {'name': 'wdcsgg.cjt', 'size': '150009'}], 'size': 1839167}, {'name': 'rtnvpg', 'size': '164488'}, {'name': 'vqqcvgts.vrc', 'size': '23729'}, {'name': 'wdcsgg.cjt', 'size': '115775'}], 'size': 3072410}, {'path': 'qlrdf', 'children': [{'path': 'dqgln', 'children': [{'path': 'qdrszjvm', 'children': [{'name': 'lcpgtrc.dqm', 'size': '199245'}], 'size': 199245}], 'size': 199245}, {'path': 'ngmqbc', 'children': [{'name': 'czvcf.jft', 'size': '171851'}, {'path': 'ngmqbc', 'children': [{'name': 'jjhmhzs.dww', 'size': '14596'}], 'size': 14596}, {'path': 'qdffn', 'children': [{'path': 'czvcf', 'children': [{'name': 'jhqhd.fdz', 'size': '130227'}], 'size': 130227}], 'size': 130227}], 'size': 316674}, {'path': 'ntngh', 'children': [{'name': 'bqjfjnl.pcl', 'size': '243908'}, {'name': 'btmz', 'size': '112351'}, {'name': 'lcpgtrc.dqm', 'size': '30167'}, {'name': 'mfwcvc.zdg', 'size': '249181'}, {'path': 'qlhw', 'children': [{'name': 'gfhthp.prr', 'size': '267233'}], 'size': 267233}, {'name': 'vqqcvgts.vrc', 'size': '157482'}], 'size': 1060322}], 'size': 1576241}], 'size': 6609338}, {'path': 'tbdsml', 'children': [{'name': 'btmz', 'size': '44152'}, {'name': 'cpzlrsh', 'size': '143454'}, {'name': 'crdvhbt.dfr', 'size': '47848'}, {'path': 'gvjhlqdd', 'children': [{'name': 'ffbm', 'size': '177040'}], 'size': 177040}, {'name': 'mgljcrw.trm', 'size': '171842'}, {'path': 'nqsq', 'children': [{'path': 'fchtl', 'children': [{'name': 'btmz', 'size': '193793'}, {'name': 'jrvt.hzn', 'size': '164089'}, {'name': 'lpv.gtg', 'size': '53839'}, {'path': 'qmfwds', 'children': [{'path': 'dqtbp', 'children': [{'name': 'hdgnthn.dff', 'size': '56177'}, {'name': 'jrvt.nmg', 'size': '56834'}], 'size': 113011}, {'name': 'lcpgtrc.dqm', 'size': '236341'}, {'name': 'rdzsz.vqr', 'size': '101548'}, {'name': 'wzpdq.gjr', 'size': '180341'}], 'size': 631241}, {'path': 'sqznc', 'children': [{'name': 'dpdfvn.spw', 'size': '282988'}, {'name': 'tzfd.pfd', 'size': '248737'}], 'size': 531725}, {'path': 'tdqg', 'children': [{'name': 'rdzsz.dhb', 'size': '251266'}], 'size': 251266}, {'path': 'zvd', 'children': [{'name': 'ngmqbc', 'size': '124979'}], 'size': 124979}], 'size': 1950932}, {'path': 'jrvt', 'children': [{'name': 'dbbppj.sds', 'size': '206684'}, {'name': 'jvst.fzr', 'size': '189832'}], 'size': 396516}, {'path': 'nsgbjwbt', 'children': [{'name': 'btmz', 'size': '32810'}], 'size': 32810}, {'path': 'qcz', 'children': [{'path': 'bjbsl', 'children': [{'name': 'rdzsz.qtl', 'size': '1312'}], 'size': 1312}, {'path': 'brvgznjr', 'children': [{'name': 'lhfsc.lrh', 'size': '98988'}], 'size': 98988}, {'name': 'btmz', 'size': '98771'}, {'path': 'gbfhz', 'children': [{'name': 'hgldz', 'size': '96203'}, {'name': 'nwqgchw', 'size': '28558'}, {'path': 'qrzd', 'children': [{'name': 'hjfcwvtq', 'size': '231108'}], 'size': 231108}, {'name': 'wjww.hjf', 'size': '240140'}], 'size': 596009}, {'path': 'ngmqbc', 'children': [{'path': 'cpjvd', 'children': [{'name': 'btmz', 'size': '142549'}, {'path': 'ngmqbc', 'children': [{'name': 'vqqcvgts.vrc', 'size': '62008'}], 'size': 62008}], 'size': 204557}, {'path': 'vrbfcwc', 'children': [{'path': 'czj', 'children': [{'name': 'btmz', 'size': '48640'}], 'size': 48640}], 'size': 48640}], 'size': 253197}, {'name': 'rccpzctp.gwn', 'size': '88248'}, {'path': 'rdzsz', 'children': [{'path': 'czvcf', 'children': [{'path': 'fqjrb', 'children': [{'path': 'fpspthg', 'children': [{'name': 'hmwsq', 'size': '280707'}], 'size': 280707}, {'path': 'hdmtsv', 'children': [{'name': 'btmz', 'size': '102842'}, {'name': 'fpzqpqb.zjp', 'size': '72949'}], 'size': 175791}, {'name': 'mwlsw.fvs', 'size': '118041'}, {'path': 'rdzsz', 'children': [{'name': 'sjtwbsvc', 'size': '36159'}], 'size': 36159}, {'name': 'wdcsgg.cjt', 'size': '99976'}], 'size': 710674}, {'path': 'jbtgpl', 'children': [{'name': 'lhfsc.lrh', 'size': '139817'}, {'name': 'nwqgchw.wrz', 'size': '139333'}], 'size': 279150}, {'path': 'jstzjf', 'children': [{'path': 'gngbnq', 'children': [{'path': 'bfvsz', 'children': [{'name': 'mdf.wvc', 'size': '283370'}], 'size': 283370}, {'path': 'pndfrjhz', 'children': [{'name': 'lhfsc.lrh', 'size': '252824'}], 'size': 252824}], 'size': 536194}, {'name': 'lcpgtrc.dqm', 'size': '54929'}, {'path': 'pdbdwmc', 'children': [{'path': 'nwqgchw', 'children': [{'path': 'bnfhbvmr', 'children': [{'name': 'lrmmtjmv', 'size': '62602'}], 'size': 62602}], 'size': 62602}, {'path': 'sdmfntl', 'children': [{'name': 'njfgsgm.jtv', 'size': '93365'}], 'size': 93365}, {'name': 'vqqcvgts.vrc', 'size': '266823'}], 'size': 422790}], 'size': 1013913}, {'name': 'lcpgtrc.dqm', 'size': '299095'}, {'name': 'lhfsc.lrh', 'size': '122426'}, {'path': 'wczwphjh', 'children': [{'name': 'lcpgtrc.dqm', 'size': '164840'}], 'size': 164840}, {'name': 'wdcsgg.cjt', 'size': '219013'}], 'size': 2809111}, {'path': 'fmgmgmp', 'children': [{'name': 'jglzqc.mss', 'size': '292610'}, {'path': 'rdzsz', 'children': [{'name': 'lcpgtrc.dqm', 'size': '295660'}], 'size': 295660}, {'path': 'rrrjw', 'children': [{'path': 'lsc', 'children': [{'name': 'dljtrq.tll', 'size': '280045'}, {'path': 'nwqgchw', 'children': [{'name': 'lhfsc.lrh', 'size': '162525'}], 'size': 162525}], 'size': 442570}], 'size': 442570}], 'size': 1030840}, {'path': 'jrvt', 'children': [{'name': 'pcsqv', 'size': '227518'}], 'size': 227518}, {'name': 'lhfsc.lrh', 'size': '308389'}, {'path': 'nfdh', 'children': [{'name': 'ngmqbc.qhd', 'size': '304769'}], 'size': 304769}, {'path': 'ptgsd', 'children': [{'name': 'cpfzhhd', 'size': '281593'}, {'name': 'hhlhssqb.szt', 'size': '123541'}, {'name': 'lcpgtrc.dqm', 'size': '250182'}, {'path': 'ngmqbc', 'children': [{'name': 'vqqcvgts.vrc', 'size': '202162'}], 'size': 202162}, {'name': 'pppmnp', 'size': '229226'}, {'path': 'wntfhzqf', 'children': [{'path': 'czvcf', 'children': [{'name': 'bzwsvd.lhc', 'size': '250212'}], 'size': 250212}, {'path': 'rdzsz', 'children': [{'name': 'ngmqbc.lfb', 'size': '244145'}, {'name': 'plnjrm.rgs', 'size': '236278'}], 'size': 480423}, {'path': 'wvhznt', 'children': [{'name': 'czvcf.cgn', 'size': '264719'}], 'size': 264719}], 'size': 995354}, {'path': 'zchjnbz', 'children': [{'path': 'jrvt', 'children': [{'name': 'jrvt', 'size': '154825'}, {'name': 'rdzsz', 'size': '44966'}, {'name': 'vnnrqcbr.fjf', 'size': '198819'}], 'size': 398610}, {'path': 'msrs', 'children': [{'name': 'cwbq.ltd', 'size': '188969'}], 'size': 188969}, {'path': 'vtrcs', 'children': [{'name': 'jmvvq.pvn', 'size': '2014'}], 'size': 2014}], 'size': 589593}], 'size': 2671651}, {'path': 'qmg', 'children': [{'path': 'dqfs', 'children': [{'name': 'smwcjg.vjm', 'size': '130929'}], 'size': 130929}, {'path': 'hwnbws', 'children': [{'path': 'vsq', 'children': [{'name': 'twlvvd.qlc', 'size': '196984'}], 'size': 196984}], 'size': 196984}, {'path': 'ngmqbc', 'children': [{'name': 'cdzjjw', 'size': '212410'}], 'size': 212410}], 'size': 540323}, {'name': 'vqqcvgts.vrc', 'size': '244691'}], 'size': 8137292}, {'name': 'tqswrdh.wfc', 'size': '39060'}, {'path': 'ztnv', 'children': [{'name': 'pwrsss', 'size': '167568'}, {'name': 'rlprpl', 'size': '64234'}], 'size': 231802}], 'size': 9544679}, {'path': 'vqlnqvwn', 'children': [{'name': 'lcpgtrc.dqm', 'size': '19448'}], 'size': 19448}, {'name': 'wlspgz', 'size': '55184'}, {'path': 'wzm', 'children': [{'name': 'lhfsc.lrh', 'size': '123271'}, {'path': 'ngmqbc', 'children': [{'path': 'bdjfhmvz', 'children': [{'name': 'jrvt.nnj', 'size': '104287'}], 'size': 104287}, {'name': 'cqg', 'size': '101745'}, {'path': 'ngmqbc', 'children': [{'name': 'nwqgchw', 'size': '88793'}], 'size': 88793}, {'name': 'ngmqbc.lnd', 'size': '119605'}, {'path': 'tnfr', 'children': [{'path': 'nggnpj', 'children': [{'name': 'btmz', 'size': '308915'}, {'name': 'jjtwrbtw.bln', 'size': '81154'}, {'name': 'sfppg.hvn', 'size': '50902'}, {'path': 'tpg', 'children': [{'name': 'vqqcvgts.vrc', 'size': '143630'}], 'size': 143630}], 'size': 584601}, {'name': 'vqqcvgts.vrc', 'size': '161400'}], 'size': 746001}, {'path': 'wfzct', 'children': [{'name': 'bzhzl.zcg', 'size': '71154'}], 'size': 71154}], 'size': 1231585}, {'path': 'qvvvdl', 'children': [{'name': 'nwqgchw.tvr', 'size': '185898'}], 'size': 185898}], 'size': 1540754}, {'path': 'zpw', 'children': [{'name': 'bcfj.lch', 'size': '167347'}, {'path': 'fldmgj', 'children': [{'name': 'sbftm.wmt', 'size': '154330'}], 'size': 154330}, {'path': 'jspslmwp', 'children': [{'name': 'jrvt.jdw', 'size': '75378'}, {'name': 'mzthsl.qtv', 'size': '26174'}, {'name': 'njjdqsr', 'size': '214743'}, {'name': 'tsdnqwj', 'size': '29213'}], 'size': 345508}, {'name': 'rdsz.dng', 'size': '199949'}], 'size': 867134}], 'size': 14407457}, {'path': 'rdzsz', 'children': [{'name': 'cfjb.mfc', 'size': '263486'}, {'name': 'fjnfp.lcl', 'size': '77949'}, {'name': 'lcpgtrc.dqm', 'size': '262618'}, {'name': 'lhfsc.lrh', 'size': '124555'}, {'path': 'pngmr', 'children': [{'name': 'fdvbthn.cvs', 'size': '305791'}, {'name': 'rdjvldmt.lfw', 'size': '32332'}, {'path': 'rwwqsl', 'children': [{'name': 'bmqnqtz', 'size': '158602'}, {'path': 'cvphd', 'children': [{'name': 'hfhvv.ffp', 'size': '119828'}, {'path': 'qbvcjq', 'children': [{'path': 'nwqgchw', 'children': [{'name': 'lcpgtrc.dqm', 'size': '127576'}], 'size': 127576}], 'size': 127576}, {'name': 'wdcsgg.cjt', 'size': '257077'}], 'size': 504481}, {'path': 'hpb', 'children': [{'name': 'nwqgchw', 'size': '176379'}, {'name': 'qhdgmsvv.bdr', 'size': '166831'}], 'size': 343210}], 'size': 1006293}, {'path': 'rzgv', 'children': [{'name': 'pngtztnf.gdt', 'size': '56544'}], 'size': 56544}], 'size': 1400960}], 'size': 2129568}], 'size': 17121361}], 'size': 38555100}, {'path': 'bmlllrl', 'children': [{'name': 'chqqnfpn.dfs', 'size': '270146'}, {'path': 'ngmqbc', 'children': [{'path': 'rgcrvvgj', 'children': [{'name': 'jwrlwq', 'size': '219577'}], 'size': 219577}, {'name': 'vqqcvgts.vrc', 'size': '301804'}], 'size': 521381}, {'path': 'rdzsz', 'children': [{'name': 'nwqgchw.rng', 'size': '290477'}], 'size': 290477}, {'name': 'vqqcvgts.vrc', 'size': '70712'}], 'size': 1152716}, {'path': 'dhm', 'children': [{'name': 'npznvgqn.bdd', 'size': '127736'}, {'name': 'smmlzfj.lhh', 'size': '59221'}, {'name': 'zhfpvppf.gtn', 'size': '22345'}], 'size': 209302}, {'path': 'mnp', 'children': [{'path': 'gdntwv', 'children': [{'name': 'btmz', 'size': '133571'}], 'size': 133571}, {'path': 'qlsfmcqp', 'children': [{'name': 'bffzdczp.gqf', 'size': '244176'}, {'name': 'cqlvm.wdd', 'size': '12060'}, {'path': 'jnl', 'children': [{'name': 'lcpgtrc.dqm', 'size': '252674'}], 'size': 252674}, {'name': 'ldczcfl', 'size': '14040'}, {'path': 'nwqgchw', 'children': [{'name': 'btmz', 'size': '258944'}], 'size': 258944}, {'name': 'sphmmcv', 'size': '243637'}, {'name': 'wdcsgg.cjt', 'size': '290808'}], 'size': 1316339}, {'path': 'schlsbb', 'children': [{'path': 'fpbrwnz', 'children': [{'name': 'btmz', 'size': '232867'}, {'name': 'cmq.tgm', 'size': '150179'}, {'name': 'jztmgg.dlb', 'size': '249603'}, {'path': 'mqhz', 'children': [{'name': 'rdzsz.lhj', 'size': '232359'}, {'name': 'vpjbmjd.zvt', 'size': '25201'}, {'name': 'vqqcvgts.vrc', 'size': '277414'}], 'size': 534974}, {'name': 'wdcsgg.cjt', 'size': '62465'}], 'size': 1230088}, {'path': 'hnrh', 'children': [{'path': 'dmghrm', 'children': [{'name': 'vqqcvgts.vrc', 'size': '16799'}], 'size': 16799}, {'name': 'lcpgtrc.dqm', 'size': '290254'}, {'path': 'tbbp', 'children': [{'name': 'jrvt', 'size': '14688'}, {'name': 'wdcsgg.cjt', 'size': '45492'}], 'size': 60180}, {'name': 'vqqcvgts.vrc', 'size': '104510'}], 'size': 471743}, {'name': 'rtqfwbl', 'size': '101456'}], 'size': 1803287}], 'size': 3253197}, {'path': 'nwqgchw', 'children': [{'name': 'lhfsc.lrh', 'size': '21374'}, {'name': 'wdcsgg.cjt', 'size': '121726'}], 'size': 143100}], 'size': 43313415}\n",
      "1477771\n"
     ]
    }
   ],
   "source": [
    "bytestream = \"\"\n",
    "\n",
    "\n",
    "children = []\n",
    "\n",
    "directories = {\"path\": \"/\", \"children\": children, \"size\": 0}\n",
    "\n",
    "current_path = {\"path\": \"/\", \"children\": children}\n",
    "\n",
    "path_history = []\n",
    "\n",
    "last_dic_name = \"\"\n",
    "\n",
    "ls_last_command = False\n",
    "\n",
    "with open('input.txt') as csv_file:\n",
    "    lines = csv_file.readlines()\n",
    "    for line in lines:\n",
    "        line = line.rstrip()\n",
    "        splitted = line.split(\" \")\n",
    "\n",
    "        if ls_last_command:\n",
    "            if splitted[0] == \"dir\":\n",
    "                current_path.get(\"children\").append({\"path\": splitted[1], \"children\": [], \"size\": 0})\n",
    "                continue\n",
    "            if splitted[0].isnumeric():\n",
    "                current_path.get(\"children\").append({\"name\": splitted[1], \"size\": splitted[0]})\n",
    "                dir_size = directories.get(\"size\")\n",
    "                dir_size += int(splitted[0])\n",
    "                dir_size = directories.update({\"size\": dir_size})\n",
    "                new_directory = directories\n",
    "                for path in path_history:\n",
    "                    for directory in new_directory.get(\"children\"):\n",
    "                        if directory.get(\"path\") == path:\n",
    "                            new_directory = directory\n",
    "                            dir_size = directory.get(\"size\")\n",
    "                            dir_size += int(splitted[0])\n",
    "                            dir_size = directory.update({\"size\": dir_size})\n",
    "                            continue\n",
    "\n",
    "        if splitted[0] == \"$\":  # User input\n",
    "            if splitted[1] == \"cd\":\n",
    "                if splitted[2] == \"..\":\n",
    "                    path_history.pop()\n",
    "                    new_directory = directories\n",
    "                    for path in path_history:\n",
    "                        for directory in new_directory.get(\"children\"):\n",
    "                            if directory.get(\"path\") == path:\n",
    "                                new_directory = directory\n",
    "                                break\n",
    "                                \n",
    "                    current_path = new_directory\n",
    "                    ls_last_command = False\n",
    "                elif splitted[2] == \"/\":\n",
    "                    print(\"root\")\n",
    "                    path_history.append(\"/\")\n",
    "                else:\n",
    "                    dic_name = splitted[2]\n",
    "                    path_history.append(dic_name)\n",
    "                    for directory in current_path.get(\"children\"):\n",
    "                        if directory.get(\"path\") == dic_name:\n",
    "                            current_path = directory\n",
    "                    ls_last_command = False\n",
    "            if splitted[1] == \"ls\":\n",
    "                ls_last_command = True\n",
    "\n",
    "\n",
    "total_size = 0\n",
    "\n",
    "print(directories)\n",
    "\n",
    "\n",
    "def loop_through_nested_list(nested_list):\n",
    "    for item in nested_list:\n",
    "        if type(item) is dict:\n",
    "            if \"children\" in item.keys():\n",
    "                size = item.get(\"size\")\n",
    "                if size != 0 and size <= 100000:\n",
    "                    global total_size\n",
    "                    total_size += size\n",
    "            path = item.get(\"children\")\n",
    "            if type(path) is list:\n",
    "                loop_through_nested_list(path)\n",
    "            \n",
    "loop_through_nested_list(directories.get(\"children\"))\n",
    "\n",
    "print(total_size)\n",
    "\n"
   ]
  },
  {
   "cell_type": "code",
   "execution_count": 137,
   "metadata": {},
   "outputs": [
    {
     "name": "stdout",
     "output_type": "stream",
     "text": [
      "3313415\n",
      "3579501\n"
     ]
    }
   ],
   "source": [
    "total_sizes = []\n",
    "total_space = 70000000\n",
    "needed_space = 30000000\n",
    "space_used = directories.get(\"size\")\n",
    "\n",
    "\n",
    "space_to_free = needed_space - (total_space - space_used)\n",
    "\n",
    "print(space_to_free)\n",
    "\n",
    "def loop_through_nested_list(nested_list):\n",
    "    for item in nested_list:\n",
    "        if type(item) is dict:\n",
    "            if \"children\" in item.keys():\n",
    "                size = item.get(\"size\")\n",
    "                global total_sizes\n",
    "                total_sizes.append(size)\n",
    "            path = item.get(\"children\")\n",
    "            if type(path) is list:\n",
    "                loop_through_nested_list(path)\n",
    "            \n",
    "loop_through_nested_list(directories.get(\"children\"))\n",
    "\n",
    "closest = min([i for i in total_sizes if space_to_free < i])\n",
    "print(closest)\n",
    "\n"
   ]
  }
 ],
 "metadata": {
  "kernelspec": {
   "display_name": "Python 3.10.6 64-bit",
   "language": "python",
   "name": "python3"
  },
  "language_info": {
   "codemirror_mode": {
    "name": "ipython",
    "version": 3
   },
   "file_extension": ".py",
   "mimetype": "text/x-python",
   "name": "python",
   "nbconvert_exporter": "python",
   "pygments_lexer": "ipython3",
   "version": "3.10.6"
  },
  "orig_nbformat": 4,
  "vscode": {
   "interpreter": {
    "hash": "aee8b7b246df8f9039afb4144a1f6fd8d2ca17a180786b69acc140d282b71a49"
   }
  }
 },
 "nbformat": 4,
 "nbformat_minor": 2
}
