{
 "cells": [
  {
   "cell_type": "code",
   "execution_count": 50,
   "metadata": {},
   "outputs": [],
   "source": [
    "bytestream = \"\"\n",
    "\n",
    "with open('input.txt') as csv_file:\n",
    "    bytestream = csv_file.read()\n",
    "\n",
    "def get_start_of_message_marker(packet_size):\n",
    "    for i in range(len(bytestream)):\n",
    "        first_character = i\n",
    "        last_character = first_character + packet_size \n",
    "        four_character_packet = bytestream[first_character:last_character]\n",
    "        if len(set(four_character_packet)) == len(four_character_packet):\n",
    "            return last_character\n",
    "        "
   ]
  },
  {
   "cell_type": "code",
   "execution_count": 51,
   "metadata": {},
   "outputs": [
    {
     "name": "stdout",
     "output_type": "stream",
     "text": [
      "1892\n"
     ]
    }
   ],
   "source": [
    "# Solution part 1\n",
    "\n",
    "print(get_start_of_message_marker(4))"
   ]
  },
  {
   "cell_type": "code",
   "execution_count": 52,
   "metadata": {},
   "outputs": [
    {
     "name": "stdout",
     "output_type": "stream",
     "text": [
      "2313\n"
     ]
    }
   ],
   "source": [
    "# Solution part 2\n",
    "\n",
    "print(get_start_of_message_marker(14))"
   ]
  }
 ],
 "metadata": {
  "kernelspec": {
   "display_name": "Python 3.10.6 64-bit",
   "language": "python",
   "name": "python3"
  },
  "language_info": {
   "codemirror_mode": {
    "name": "ipython",
    "version": 3
   },
   "file_extension": ".py",
   "mimetype": "text/x-python",
   "name": "python",
   "nbconvert_exporter": "python",
   "pygments_lexer": "ipython3",
   "version": "3.10.6"
  },
  "orig_nbformat": 4,
  "vscode": {
   "interpreter": {
    "hash": "aee8b7b246df8f9039afb4144a1f6fd8d2ca17a180786b69acc140d282b71a49"
   }
  }
 },
 "nbformat": 4,
 "nbformat_minor": 2
}
