{
 "cells": [
  {
   "cell_type": "code",
   "execution_count": 19,
   "metadata": {},
   "outputs": [
    {
     "name": "stdout",
     "output_type": "stream",
     "text": [
      "QGTHFZBHV\n"
     ]
    }
   ],
   "source": [
    "import csv\n",
    "\n",
    "# Stacks of crates\n",
    "stack_1 = [\"N\", \"D\", \"M\", \"Q\", \"B\", \"P\", \"Z\"]\n",
    "stack_2 = [\"C\", \"L\", \"Z\", \"Q\", \"M\", \"D\", \"H\", \"V\"]\n",
    "stack_3 = [\"Q\", \"H\", \"R\", \"D\", \"V\", \"F\", \"Z\", \"G\"]\n",
    "stack_4 = [\"H\", \"G\", \"D\", \"F\", \"N\"]\n",
    "stack_5 = [\"N\", \"F\", \"Q\"]\n",
    "stack_6 = [\"D\", \"Q\", \"V\", \"Z\", \"F\", \"B\", \"T\"]\n",
    "stack_7 = [\"Q\", \"M\", \"T\", \"Z\", \"D\", \"V\", \"S\", \"H\"]\n",
    "stack_8 = [\"M\", \"G\", \"F\", \"P\", \"N\", \"Q\"]\n",
    "stack_9 = [\"B\", \"W\", \"R\", \"M\"]\n",
    "\n",
    "stacks = [\n",
    "    stack_1,\n",
    "    stack_2,\n",
    "    stack_3,\n",
    "    stack_4,\n",
    "    stack_5,\n",
    "    stack_6,\n",
    "    stack_7,\n",
    "    stack_8,\n",
    "    stack_9,\n",
    "]\n",
    "\n",
    "with open(\"input.txt\") as csv_file:\n",
    "    csv_reader = csv.reader(csv_file, delimiter=\",\")\n",
    "    for row in csv_reader:\n",
    "        move_count = int(row[0].split(\" \")[1])\n",
    "        from_stack = int(row[0].split(\" \")[3]) - 1\n",
    "        to_stack = int(row[0].split(\" \")[5]) - 1\n",
    "\n",
    "        for i in range(move_count):\n",
    "            stacks[to_stack].append(stacks[from_stack].pop())\n",
    "\n",
    "top_crates = \"\"\n",
    "\n",
    "for i in range(len(stacks)):\n",
    "    top_crates += stacks[i][-1]\n",
    "\n",
    "print(top_crates)\n"
   ]
  },
  {
   "cell_type": "code",
   "execution_count": 5,
   "metadata": {},
   "outputs": [
    {
     "name": "stdout",
     "output_type": "stream",
     "text": [
      "MGDMPSZTM\n"
     ]
    }
   ],
   "source": [
    "import csv\n",
    "\n",
    "stack_1 = [\"N\", \"D\", \"M\", \"Q\", \"B\", \"P\", \"Z\"]\n",
    "stack_2 = [\"C\", \"L\", \"Z\", \"Q\", \"M\", \"D\", \"H\", \"V\"]\n",
    "stack_3 = [\"Q\", \"H\", \"R\", \"D\", \"V\", \"F\", \"Z\", \"G\"]\n",
    "stack_4 = [\"H\", \"G\", \"D\", \"F\", \"N\"]\n",
    "stack_5 = [\"N\", \"F\", \"Q\"]\n",
    "stack_6 = [\"D\", \"Q\", \"V\", \"Z\", \"F\", \"B\", \"T\"]\n",
    "stack_7 = [\"Q\", \"M\", \"T\", \"Z\", \"D\", \"V\", \"S\", \"H\"]\n",
    "stack_8 = [\"M\", \"G\", \"F\", \"P\", \"N\", \"Q\"]\n",
    "stack_9 = [\"B\", \"W\", \"R\", \"M\"]\n",
    "\n",
    "stacks = [\n",
    "    stack_1,\n",
    "    stack_2,\n",
    "    stack_3,\n",
    "    stack_4,\n",
    "    stack_5,\n",
    "    stack_6,\n",
    "    stack_7,\n",
    "    stack_8,\n",
    "    stack_9,\n",
    "]\n",
    "\n",
    "with open(\"input.txt\") as csv_file:\n",
    "    csv_reader = csv.reader(csv_file, delimiter=\",\")\n",
    "    for row in csv_reader:\n",
    "        move_count = int(row[0].split(\" \")[1])\n",
    "        from_stack = int(row[0].split(\" \")[3]) - 1\n",
    "        to_stack = int(row[0].split(\" \")[5]) - 1\n",
    "\n",
    "        crates = stacks[from_stack][-move_count:]\n",
    "        del stacks[from_stack][-move_count:]\n",
    "        stacks[to_stack] += crates\n",
    "\n",
    "top_crates = \"\"\n",
    "\n",
    "for i in range(len(stacks)):\n",
    "    top_crates += stacks[i][-1]\n",
    "\n",
    "print(top_crates)\n"
   ]
  }
 ],
 "metadata": {
  "kernelspec": {
   "display_name": "Python 3.10.6 64-bit",
   "language": "python",
   "name": "python3"
  },
  "language_info": {
   "codemirror_mode": {
    "name": "ipython",
    "version": 3
   },
   "file_extension": ".py",
   "mimetype": "text/x-python",
   "name": "python",
   "nbconvert_exporter": "python",
   "pygments_lexer": "ipython3",
   "version": "3.10.6"
  },
  "orig_nbformat": 4,
  "vscode": {
   "interpreter": {
    "hash": "aee8b7b246df8f9039afb4144a1f6fd8d2ca17a180786b69acc140d282b71a49"
   }
  }
 },
 "nbformat": 4,
 "nbformat_minor": 2
}
