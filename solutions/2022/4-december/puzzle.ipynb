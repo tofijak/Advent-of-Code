{
 "cells": [
  {
   "cell_type": "code",
   "execution_count": 24,
   "metadata": {},
   "outputs": [],
   "source": [
    "import csv\n",
    "\n",
    "total_fully_overlaps = 0\n",
    "\n",
    "with open('input.txt') as csv_file:\n",
    "    csv_reader = csv.reader(csv_file, delimiter=',')\n",
    "    for row in csv_reader:\n",
    "        elf_1_sections = row[0]\n",
    "        elf_1_start_section = int(elf_1_sections.split('-')[0])\n",
    "        elf_1_end_section = int(elf_1_sections.split('-')[1])\n",
    "        elf_2_sections = row[1]\n",
    "        elf_2_start_section = int(elf_2_sections.split('-')[0])\n",
    "        elf_2_end_section = int(elf_2_sections.split('-')[1])\n",
    "\n",
    "        if elf_1_start_section >= elf_2_start_section:\n",
    "            if elf_1_end_section <= elf_2_end_section:\n",
    "                total_fully_overlaps += 1\n",
    "                continue\n",
    "    \n",
    "        if elf_1_start_section <= elf_2_start_section:\n",
    "            if elf_1_end_section >= elf_2_end_section:\n",
    "                total_fully_overlaps += 1\n",
    "                continue\n",
    "    \n",
    "        "
   ]
  },
  {
   "cell_type": "code",
   "execution_count": 25,
   "metadata": {},
   "outputs": [
    {
     "name": "stdout",
     "output_type": "stream",
     "text": [
      "444\n"
     ]
    }
   ],
   "source": [
    "# Answer part 1\n",
    "print(total_fully_overlaps)"
   ]
  },
  {
   "cell_type": "code",
   "execution_count": 26,
   "metadata": {},
   "outputs": [],
   "source": [
    "import csv\n",
    "\n",
    "total_overlaps = 0\n",
    "\n",
    "with open('input.txt') as csv_file:\n",
    "    csv_reader = csv.reader(csv_file, delimiter=',')\n",
    "    for row in csv_reader:\n",
    "        elf_1_sections = row[0]\n",
    "        elf_1_start_section = int(elf_1_sections.split('-')[0])\n",
    "        elf_1_end_section = int(elf_1_sections.split('-')[1])\n",
    "        elf_2_sections = row[1]\n",
    "        elf_2_start_section = int(elf_2_sections.split('-')[0])\n",
    "        elf_2_end_section = int(elf_2_sections.split('-')[1])\n",
    "\n",
    "        if elf_1_start_section >= elf_2_start_section:\n",
    "            if elf_1_start_section <= elf_2_end_section:\n",
    "                total_overlaps += 1\n",
    "                continue\n",
    "        \n",
    "        if elf_1_start_section <= elf_2_start_section: \n",
    "            if elf_1_end_section >= elf_2_start_section: \n",
    "                total_overlaps += 1\n",
    "                continue\n",
    "\n",
    "        "
   ]
  },
  {
   "cell_type": "code",
   "execution_count": 27,
   "metadata": {},
   "outputs": [
    {
     "name": "stdout",
     "output_type": "stream",
     "text": [
      "801\n"
     ]
    }
   ],
   "source": [
    "# Answer part 2\n",
    "print(total_overlaps)"
   ]
  }
 ],
 "metadata": {
  "kernelspec": {
   "display_name": "Python 3.10.6 64-bit",
   "language": "python",
   "name": "python3"
  },
  "language_info": {
   "codemirror_mode": {
    "name": "ipython",
    "version": 3
   },
   "file_extension": ".py",
   "mimetype": "text/x-python",
   "name": "python",
   "nbconvert_exporter": "python",
   "pygments_lexer": "ipython3",
   "version": "3.10.6"
  },
  "orig_nbformat": 4,
  "vscode": {
   "interpreter": {
    "hash": "aee8b7b246df8f9039afb4144a1f6fd8d2ca17a180786b69acc140d282b71a49"
   }
  }
 },
 "nbformat": 4,
 "nbformat_minor": 2
}
