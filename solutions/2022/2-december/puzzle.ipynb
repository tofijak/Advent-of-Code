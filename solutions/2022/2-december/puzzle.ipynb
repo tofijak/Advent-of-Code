{
 "cells": [
  {
   "cell_type": "code",
   "execution_count": 8,
   "metadata": {},
   "outputs": [
    {
     "name": "stdout",
     "output_type": "stream",
     "text": [
      "13484\n"
     ]
    }
   ],
   "source": [
    "# A for Rock, B for Paper, and C for Scissors.\n",
    "# 1 for Rock, 2 for Paper, and 3 for Scissors\n",
    "A = 1; B = 2; C = 3\n",
    "\n",
    "#X for Rock, Y for Paper, and Z for Scissors\n",
    "X = 1; Y = 2; Z = 3\n",
    "\n",
    "#score for the outcome of the round (0 if you lost, 3 if the round was a draw, and 6 if you won)\n",
    "score = 0\n",
    "draw_score = 3\n",
    "win_score = 6\n",
    "\n",
    "import csv\n",
    "\n",
    "with open('input.txt') as csv_file:\n",
    "    csv_reader = csv.reader(csv_file, delimiter=' ')\n",
    "    line_count = 0\n",
    "    for row in csv_reader:\n",
    "        if row[0] == 'A': \n",
    "            if row[1] == 'X': \n",
    "                score += draw_score + X\n",
    "            elif row[1] == 'Y':\n",
    "                score += win_score + Y\n",
    "            elif row[1] == 'Z':\n",
    "                score += Z\n",
    "        elif row[0] == 'B':\n",
    "            if row[1] == 'X':\n",
    "                score +=  X\n",
    "            elif row[1] == 'Y':\n",
    "                score += draw_score + Y\n",
    "            elif row[1] == 'Z':\n",
    "                score += win_score+ Z\n",
    "        elif row[0] == 'C':\n",
    "            if row[1] == 'X':\n",
    "                score += win_score+ X\n",
    "            elif row[1] == 'Y':\n",
    "                score +=  Y\n",
    "            elif row[1] == 'Z':\n",
    "                score += draw_score + Z\n",
    "\n",
    "\n",
    "\n"
   ]
  },
  {
   "cell_type": "code",
   "execution_count": null,
   "metadata": {},
   "outputs": [],
   "source": [
    "## Part 1 solution\n",
    "print(score)"
   ]
  },
  {
   "cell_type": "code",
   "execution_count": 10,
   "metadata": {},
   "outputs": [
    {
     "name": "stdout",
     "output_type": "stream",
     "text": [
      "13433\n"
     ]
    }
   ],
   "source": [
    "# X means you need to lose, Y means you need to end the round in a draw, and Z means you need to win.\n",
    "\n",
    "selectedHand = 0\n",
    "score = 0\n",
    "\n",
    "with open('input.txt') as csv_file:\n",
    "    csv_reader = csv.reader(csv_file, delimiter=' ')\n",
    "    line_count = 0\n",
    "    for row in csv_reader:\n",
    "        if row[1] == 'X':\n",
    "            if row[0] == 'A':\n",
    "                score += C\n",
    "            elif row[0] == 'B':\n",
    "                score += A\n",
    "            elif row[0] == 'C':\n",
    "                score += B\n",
    "        if row[1] == 'Y':\n",
    "            if row[0] == 'A':\n",
    "                score += A + draw_score\n",
    "            elif row[0] == 'B':\n",
    "                score += B + draw_score\n",
    "            elif row[0] == 'C':\n",
    "                score += C + draw_score\n",
    "        if row[1] == 'Z':\n",
    "            if row[0] == 'A':\n",
    "                score += B + win_score\n",
    "            elif row[0] == 'B':\n",
    "                score += C + win_score\n",
    "            elif row[0] == 'C':\n",
    "                score += A + win_score\n",
    "\n"
   ]
  },
  {
   "cell_type": "code",
   "execution_count": 11,
   "metadata": {},
   "outputs": [
    {
     "name": "stdout",
     "output_type": "stream",
     "text": [
      "13433\n"
     ]
    }
   ],
   "source": [
    "# Part 2 solution\n",
    "print(score)"
   ]
  }
 ],
 "metadata": {
  "kernelspec": {
   "display_name": "Python 3.10.6 64-bit",
   "language": "python",
   "name": "python3"
  },
  "language_info": {
   "codemirror_mode": {
    "name": "ipython",
    "version": 3
   },
   "file_extension": ".py",
   "mimetype": "text/x-python",
   "name": "python",
   "nbconvert_exporter": "python",
   "pygments_lexer": "ipython3",
   "version": "3.10.6"
  },
  "orig_nbformat": 4,
  "vscode": {
   "interpreter": {
    "hash": "aee8b7b246df8f9039afb4144a1f6fd8d2ca17a180786b69acc140d282b71a49"
   }
  }
 },
 "nbformat": 4,
 "nbformat_minor": 2
}
